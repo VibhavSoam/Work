{
 "cells": [
  {
   "cell_type": "code",
   "execution_count": 1,
   "id": "f4503fd4",
   "metadata": {},
   "outputs": [],
   "source": [
    "import cv2"
   ]
  },
  {
   "cell_type": "code",
   "execution_count": 2,
   "id": "e7d7acbf",
   "metadata": {},
   "outputs": [],
   "source": [
    "def colorProfiles(n):\n",
    "    if n == 0 :\n",
    "        name = \"Pepsi\"\n",
    "        hsv_lower = ( 95,100,100)\n",
    "        hsv_upper = (115,255,255)\n",
    "        return (name,hsv_lower,hsv_upper)\n",
    "    if n == 1 :\n",
    "        name = \"Coke\"\n",
    "        hsv_lower = ( 0,100,100)\n",
    "        hsv_upper = (10,255,255)\n",
    "        return (name,hsv_lower,hsv_upper)"
   ]
  },
  {
   "cell_type": "code",
   "execution_count": 3,
   "id": "9747bfa6",
   "metadata": {},
   "outputs": [],
   "source": [
    "frame = cv2.imread(\"image.jpg\")\n",
    "hsv = cv2.cvtColor(frame, cv2.COLOR_BGR2HSV)\n",
    "rects = {}"
   ]
  },
  {
   "cell_type": "code",
   "execution_count": 4,
   "id": "60bc6632",
   "metadata": {},
   "outputs": [],
   "source": [
    "for i in range(2):\n",
    "    name, hsv_lower, hsv_upper = colorProfiles(i)\n",
    "    mask = cv2.inRange(hsv,hsv_lower,hsv_upper)\n",
    "    conts, herirarchy = cv2.findContours(mask.copy(),cv2.RETR_EXTERNAL, cv2.CHAIN_APPROX_NONE)\n",
    "    biggest = sorted(conts,key = cv2.contourArea,reverse=True)[0]\n",
    "    rect = cv2.boundingRect(biggest)\n",
    "    x,y,w,h = rect\n",
    "    cv2.rectangle(frame,(x,y),(x+w,y+h),(0,255,255),2)\n",
    "    cv2.putText(frame, name, (x,y),cv2.FONT_HERSHEY_SIMPLEX,1,(0,0,255),2)\n"
   ]
  },
  {
   "cell_type": "code",
   "execution_count": null,
   "id": "b9e98c68",
   "metadata": {},
   "outputs": [],
   "source": [
    "cv2.imshow(\"Image\",frame)\n",
    "cv2.waitKey(0)\n",
    "cv2.destroyAllWindows()"
   ]
  },
  {
   "cell_type": "code",
   "execution_count": null,
   "id": "388ecdc3",
   "metadata": {},
   "outputs": [],
   "source": []
  },
  {
   "cell_type": "code",
   "execution_count": null,
   "id": "bf190639",
   "metadata": {},
   "outputs": [],
   "source": []
  },
  {
   "cell_type": "code",
   "execution_count": null,
   "id": "a2d391bf",
   "metadata": {},
   "outputs": [],
   "source": []
  }
 ],
 "metadata": {
  "kernelspec": {
   "display_name": "Python 3 (ipykernel)",
   "language": "python",
   "name": "python3"
  },
  "language_info": {
   "codemirror_mode": {
    "name": "ipython",
    "version": 3
   },
   "file_extension": ".py",
   "mimetype": "text/x-python",
   "name": "python",
   "nbconvert_exporter": "python",
   "pygments_lexer": "ipython3",
   "version": "3.11.5"
  }
 },
 "nbformat": 4,
 "nbformat_minor": 5
}
